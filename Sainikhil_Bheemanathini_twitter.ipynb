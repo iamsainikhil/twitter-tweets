{
 "cells": [
  {
   "cell_type": "markdown",
   "metadata": {},
   "source": [
    "# ASSIGNMENT 3"
   ]
  },
  {
   "cell_type": "code",
   "execution_count": 1,
   "metadata": {
    "collapsed": true
   },
   "outputs": [],
   "source": [
    "import pandas as pd\n",
    "import numpy as np"
   ]
  },
  {
   "cell_type": "code",
   "execution_count": 2,
   "metadata": {
    "collapsed": true
   },
   "outputs": [],
   "source": [
    "from twython import Twython"
   ]
  },
  {
   "cell_type": "code",
   "execution_count": null,
   "metadata": {
    "collapsed": true
   },
   "outputs": [],
   "source": [
    "#In the above cell, I imported twython library which is essential to capture tweets & perform analysis on twitter tweets."
   ]
  },
  {
   "cell_type": "code",
   "execution_count": 3,
   "metadata": {
    "collapsed": false
   },
   "outputs": [],
   "source": [
    "APP_KEY ='ahCowaVjdVvO5lmJGMpigchRR' \n",
    "APP_SECRET = 'o7dy5avGMI5AJutFPWjYHAeTAw5kVR8YBMt00OKXKvnUzBUvak'\n",
    "OAUTH_TOKEN = '630413671-toB4t1du9TkC3NVwfdxFzZpZKJ6kDqiIGcBIG2Bx'\n",
    "OAUTH_TOKEN_SECRET = 'fnTfmLeB1uiEheUPUHCEcFchcylJbBxLmvQHdrFF5wZl7'\n",
    "twitter=Twython(APP_KEY,APP_SECRET,OAUTH_TOKEN,OAUTH_TOKEN_SECRET)"
   ]
  },
  {
   "cell_type": "code",
   "execution_count": null,
   "metadata": {
    "collapsed": true
   },
   "outputs": [],
   "source": [
    "#The above cell denotes my twitter app tokens & keys."
   ]
  },
  {
   "cell_type": "code",
   "execution_count": 4,
   "metadata": {
    "collapsed": false
   },
   "outputs": [
    {
     "data": {
      "text/plain": [
       "<Twython: ahCowaVjdVvO5lmJGMpigchRR>"
      ]
     },
     "execution_count": 4,
     "metadata": {},
     "output_type": "execute_result"
    }
   ],
   "source": [
    "twitter"
   ]
  },
  {
   "cell_type": "code",
   "execution_count": null,
   "metadata": {
    "collapsed": true
   },
   "outputs": [],
   "source": [
    "#In the above cell, I tested for the connection is successful with twitter."
   ]
  },
  {
   "cell_type": "code",
   "execution_count": 5,
   "metadata": {
    "collapsed": true
   },
   "outputs": [],
   "source": [
    "search = twitter.search(q='women')"
   ]
  },
  {
   "cell_type": "code",
   "execution_count": null,
   "metadata": {
    "collapsed": true
   },
   "outputs": [],
   "source": [
    "#Since, today is women's day. I searched for this term to get tweets easily."
   ]
  },
  {
   "cell_type": "code",
   "execution_count": null,
   "metadata": {
    "collapsed": true
   },
   "outputs": [],
   "source": [
    "#In the above cell, I tried to display value of 'text' key for index 0 of statuses dictionary."
   ]
  },
  {
   "cell_type": "code",
   "execution_count": 10,
   "metadata": {
    "collapsed": false
   },
   "outputs": [],
   "source": [
    "from twython import TwythonStreamer"
   ]
  },
  {
   "cell_type": "code",
   "execution_count": null,
   "metadata": {
    "collapsed": true
   },
   "outputs": [],
   "source": [
    "#I imported TwythonStreamer to live capture the twitter."
   ]
  },
  {
   "cell_type": "code",
   "execution_count": 18,
   "metadata": {
    "collapsed": true
   },
   "outputs": [],
   "source": [
    "from twython import TwythonStreamer\n",
    "tweets=[] \n",
    "class MyStreamer(TwythonStreamer):\n",
    "    def on_success(self, data):\n",
    "        if data['user']['lang'] == 'en':\n",
    "            tweets.append(data)\n",
    "            print(\"received tweet #\",len(tweets))\n",
    "        if len(tweets) >= 50:\n",
    "            self.disconnect()\n",
    "    def on_error(self, status_code, data):\n",
    "        print(status_code,data)\n",
    "        self.disconnect()\n",
    "\n"
   ]
  },
  {
   "cell_type": "code",
   "execution_count": null,
   "metadata": {
    "collapsed": true
   },
   "outputs": [],
   "source": [
    "#In the above cell, custom filter parameters were defined."
   ]
  },
  {
   "cell_type": "code",
   "execution_count": 19,
   "metadata": {
    "collapsed": true
   },
   "outputs": [],
   "source": [
    "stream = MyStreamer(APP_KEY, APP_SECRET,OAUTH_TOKEN, OAUTH_TOKEN_SECRET)"
   ]
  },
  {
   "cell_type": "code",
   "execution_count": null,
   "metadata": {
    "collapsed": true
   },
   "outputs": [],
   "source": [
    "#stream using the tokens and keys provided above."
   ]
  },
  {
   "cell_type": "code",
   "execution_count": 20,
   "metadata": {
    "collapsed": true
   },
   "outputs": [
    {
     "name": "stdout",
     "output_type": "stream",
     "text": [
      "('received tweet #', 1)\n",
      "('received tweet #', 2)\n",
      "('received tweet #', 3)\n",
      "('received tweet #', 4)\n",
      "('received tweet #', 5)\n",
      "('received tweet #', 6)\n",
      "('received tweet #', 7)\n",
      "('received tweet #', 8)\n",
      "('received tweet #', 9)\n",
      "('received tweet #', 10)\n",
      "('received tweet #', 11)\n",
      "('received tweet #', 12)\n",
      "('received tweet #', 13)\n",
      "('received tweet #', 14)\n",
      "('received tweet #', 15)\n",
      "('received tweet #', 16)\n",
      "('received tweet #', 17)\n",
      "('received tweet #', 18)\n",
      "('received tweet #', 19)\n",
      "('received tweet #', 20)\n",
      "('received tweet #', 21)\n",
      "('received tweet #', 22)\n",
      "('received tweet #', 23)\n",
      "('received tweet #', 24)\n",
      "('received tweet #', 25)\n",
      "('received tweet #', 26)\n",
      "('received tweet #', 27)\n",
      "('received tweet #', 28)\n",
      "('received tweet #', 29)\n",
      "('received tweet #', 30)\n",
      "('received tweet #', 31)\n",
      "('received tweet #', 32)\n",
      "('received tweet #', 33)\n",
      "('received tweet #', 34)\n",
      "('received tweet #', 35)\n",
      "('received tweet #', 36)\n",
      "('received tweet #', 37)\n",
      "('received tweet #', 38)\n",
      "('received tweet #', 39)\n",
      "('received tweet #', 40)\n",
      "('received tweet #', 41)\n",
      "('received tweet #', 42)\n",
      "('received tweet #', 43)\n",
      "('received tweet #', 44)\n",
      "('received tweet #', 45)\n",
      "('received tweet #', 46)\n",
      "('received tweet #', 47)\n",
      "('received tweet #', 48)\n",
      "('received tweet #', 49)\n",
      "('received tweet #', 50)\n"
     ]
    }
   ],
   "source": [
    "stream.statuses.filter(track='women')"
   ]
  },
  {
   "cell_type": "code",
   "execution_count": null,
   "metadata": {
    "collapsed": true
   },
   "outputs": [],
   "source": [
    "#I captured the 50 tweets."
   ]
  },
  {
   "cell_type": "code",
   "execution_count": null,
   "metadata": {
    "collapsed": true
   },
   "outputs": [],
   "source": [
    "#I want to analyze the followers count for users in 50 tweets."
   ]
  },
  {
   "cell_type": "code",
   "execution_count": 23,
   "metadata": {
    "collapsed": false
   },
   "outputs": [],
   "source": [
    "t = []\n",
    "for i in range(len(tweets[:])):\n",
    "    t.append(tweets[i]['user']['followers_count'])"
   ]
  },
  {
   "cell_type": "code",
   "execution_count": 24,
   "metadata": {
    "collapsed": true
   },
   "outputs": [],
   "source": [
    "df = pd.Series(t)"
   ]
  },
  {
   "cell_type": "code",
   "execution_count": null,
   "metadata": {
    "collapsed": true
   },
   "outputs": [],
   "source": [
    "#I created a dataframe with followers count."
   ]
  },
  {
   "cell_type": "code",
   "execution_count": 26,
   "metadata": {
    "collapsed": false
   },
   "outputs": [],
   "source": [
    "import seaborn as sns\n",
    "import matplotlib.pyplot as plt"
   ]
  },
  {
   "cell_type": "code",
   "execution_count": 27,
   "metadata": {
    "collapsed": true
   },
   "outputs": [],
   "source": [
    "%matplotlib inline"
   ]
  },
  {
   "cell_type": "code",
   "execution_count": 28,
   "metadata": {
    "collapsed": false
   },
   "outputs": [
    {
     "data": {
      "text/plain": [
       "<matplotlib.axes._subplots.AxesSubplot at 0xd107860>"
      ]
     },
     "execution_count": 28,
     "metadata": {},
     "output_type": "execute_result"
    },
    {
     "data": {
      "image/png": "[encoded data removed]",
      "text/plain": [
       "<matplotlib.figure.Figure at 0xd0f7a90>"
      ]
     },
     "metadata": {},
     "output_type": "display_data"
    }
   ],
   "source": [
    "sns.distplot(df)"
   ]
  },
  {
   "cell_type": "code",
   "execution_count": null,
   "metadata": {
    "collapsed": true
   },
   "outputs": [],
   "source": [
    "#I created a distribution plot using seaborn to visually represent the count of followers for the respective tweets."
   ]
  },
  {
   "cell_type": "code",
   "execution_count": 29,
   "metadata": {
    "collapsed": false,
    "scrolled": true
   },
   "outputs": [
    {
     "data": {
      "text/plain": [
       "count       50.000000\n",
       "mean      2711.240000\n",
       "std       6945.322897\n",
       "min          7.000000\n",
       "25%        140.250000\n",
       "50%        658.000000\n",
       "75%       2061.250000\n",
       "max      46149.000000\n",
       "dtype: float64"
      ]
     },
     "execution_count": 29,
     "metadata": {},
     "output_type": "execute_result"
    }
   ],
   "source": [
    "df.describe()"
   ]
  },
  {
   "cell_type": "code",
   "execution_count": null,
   "metadata": {
    "collapsed": true
   },
   "outputs": [],
   "source": [
    "#Statistical data "
   ]
  },
  {
   "cell_type": "code",
   "execution_count": null,
   "metadata": {
    "collapsed": true
   },
   "outputs": [],
   "source": [
    "#Thus, I analyzed twitter with the search term \"machine\" for first 10 tweets using twythonstreamer."
   ]
  },
  {
   "cell_type": "markdown",
   "metadata": {},
   "source": [
    "Description: [Twitter Analysis for the term \"machine\" with focus on \"followers_count\" for first 10 live tweets stream.]\n",
    "\n",
    "\n"
   ]
  },
  {
   "cell_type": "markdown",
   "metadata": {},
   "source": [
    "# Map of a Tweet"
   ]
  },
  {
   "cell_type": "markdown",
   "metadata": {},
   "source": [
    "{'contributors': None,\n",
    " 'coordinates': None,\n",
    " 'created_at': 'Thu Mar 09 00:30:35 +0000 2017',\n",
    " 'display_text_range': [0, 76],\n",
    " 'entities': {'hashtags': [],\n",
    "  'symbols': [],\n",
    "  'urls': [{'display_url': 'twitter.com/gabriella_akat\\u2026',\n",
    "    'expanded_url': 'https://twitter.com/gabriella_akat/status/839511910282244096',\n",
    "    'indices': [77, 100],\n",
    "    'url': 'https://t.co/BRetdzB6Ua'}],\n",
    "  'user_mentions': []},\n",
    " 'favorite_count': 0,\n",
    "   'favorited': False,\n",
    " u'filter_level': u'low',\n",
    " u'geo': None,\n",
    " u'id': 839634483263438848L,\n",
    " u'id_str': u'839634483263438848',\n",
    " u'in_reply_to_screen_name': None,\n",
    " u'in_reply_to_status_id': None,\n",
    " u'in_reply_to_status_id_str': None,\n",
    " u'in_reply_to_user_id': None,\n",
    " u'in_reply_to_user_id_str': None,\n",
    " u'is_quote_status': True,\n",
    " u'lang': u'en',\n",
    " u'place': None,\n",
    " u'possibly_sensitive': False,\n",
    " u'quoted_status': {u'contributors': None,\n",
    "  u'coordinates': None,\n",
    "  u'created_at': u'Wed Mar 08 16:23:31 +0000 2017',\n",
    "  u'display_text_range': [0, 104],\n",
    "  u'entities': {u'hashtags': [{u'indices': [26, 43],\n",
    "     u'text': u'adaywithoutwomen'},\n",
    "    {u'indices': [94, 104], u'text': u'RealWomen'}],\n",
    "   u'media': [{u'display_url': u'pic.twitter.com/BnTAjHQAfU',\n",
    "     u'expanded_url': u'https://twitter.com/gabriella_akat/status/839511910282244096/photo/1',\n",
    "     u'id': 839511900723372032L,\n",
    "     u'id_str': u'839511900723372032',\n",
    "     u'indices': [105, 128],\n",
    "     u'media_url': u'http://pbs.twimg.com/media/C6aLoDNUYAAeHir.jpg',\n",
    "     u'media_url_https': u'https://pbs.twimg.com/media/C6aLoDNUYAAeHir.jpg',\n",
    "     u'sizes': {u'large': {u'h': 1914, u'resize': u'fit', u'w': 1413},\n",
    "      u'medium': {u'h': 1200, u'resize': u'fit', u'w': 886},\n",
    "      u'small': {u'h': 680, u'resize': u'fit', u'w': 502},\n",
    "      u'thumb': {u'h': 150, u'resize': u'crop', u'w': 150}},\n",
    "     u'type': u'photo',\n",
    "     u'url': u'https://t.co/BnTAjHQAfU'}],\n",
    "   u'symbols': [],\n",
    "   u'urls': [],\n",
    "   u'user_mentions': []},\n",
    "  u'extended_entities': {u'media': [{u'display_url': u'pic.twitter.com/BnTAjHQAfU',\n",
    "     u'expanded_url': u'https://twitter.com/gabriella_akat/status/839511910282244096/photo/1',\n",
    "     u'id': 839511900723372032L,\n",
    "     u'id_str': u'839511900723372032',\n",
    "     u'indices': [105, 128],\n",
    "     u'media_url': u'http://pbs.twimg.com/media/C6aLoDNUYAAeHir.jpg',\n",
    "     u'media_url_https': u'https://pbs.twimg.com/media/C6aLoDNUYAAeHir.jpg',\n",
    "     u'sizes': {u'large': {u'h': 1914, u'resize': u'fit', u'w': 1413},\n",
    "      u'medium': {u'h': 1200, u'resize': u'fit', u'w': 886},\n",
    "      u'small': {u'h': 680, u'resize': u'fit', u'w': 502},\n",
    "      u'thumb': {u'h': 150, u'resize': u'crop', u'w': 150}},\n",
    "     u'type': u'photo',\n",
    "     u'url': u'https://t.co/BnTAjHQAfU'}]},\n",
    "  u'favorite_count': 314,\n",
    "  u'favorited': False,\n",
    "  u'filter_level': u'low',\n",
    "  u'geo': None,\n",
    "  u'id': 839511910282244096L,\n",
    "  u'id_str': u'839511910282244096',\n",
    "  u'in_reply_to_screen_name': None,\n",
    "  u'in_reply_to_status_id': None,\n",
    "  u'in_reply_to_status_id_str': None,\n",
    "  u'in_reply_to_user_id': None,\n",
    "  u'in_reply_to_user_id_str': None,\n",
    "  u'is_quote_status': False,\n",
    "  u'lang': u'en',\n",
    "  u'place': None,\n",
    "  u'possibly_sensitive': False,\n",
    "  u'retweet_count': 169,\n",
    "  u'retweeted': False,\n",
    "  u'source': u'<a href=\"http://twitter.com/download/android\" rel=\"nofollow\">Twitter for Android</a>',\n",
    "  u'text': u'To the people celebrating #adaywithoutwomen - GET REAL &amp; GET YOUR WHINY BUTT TO WORK! The #RealWomen https://t.co/BnTAjHQAfU',\n",
    "  u'truncated': False,\n",
    "  u'user': {u'contributors_enabled': False,\n",
    "   u'created_at': u'Wed Apr 22 22:43:34 +0000 2009',\n",
    "   u'default_profile': False,\n",
    "   u'default_profile_image': False,\n",
    "   u'description': u'Taking America Back! \\u2764\\nFollowed by @realjameswoods\\n#TRUMP \\u2b50 #MAGA \\U0001f1fa\\U0001f1f8\\n#2A \\U0001f4a5\\n#Christian \\U0001f607 \\n#ProIsrael \\U0001f1ee\\U0001f1f1',\n",
    "   u'favourites_count': 32466,\n",
    "   u'follow_request_sent': None,\n",
    "   u'followers_count': 11246,\n",
    "   u'following': None,\n",
    "   u'friends_count': 10342,\n",
    "   u'geo_enabled': True,\n",
    "   u'id': 34428229,\n",
    "   u'id_str': u'34428229',\n",
    "   u'is_translator': False,\n",
    "   u'lang': u'en',\n",
    "   u'listed_count': 16,\n",
    "   u'location': u'United States',\n",
    "   u'name': u'Gabriella \\u2764 \\U0001f1fa\\U0001f1f8\\U0001f339',\n",
    "   u'notifications': None,\n",
    "   u'profile_background_color': u'000000',\n",
    "   u'profile_background_image_url': u'http://abs.twimg.com/images/themes/theme1/bg.png',\n",
    "   u'profile_background_image_url_https': u'https://abs.twimg.com/images/themes/theme1/bg.png',\n",
    "   u'profile_background_tile': False,\n",
    "   u'profile_banner_url': u'https://pbs.twimg.com/profile_banners/34428229/1486531746',\n",
    "   u'profile_image_url': u'http://pbs.twimg.com/profile_images/837348640066682880/6qb7ew1r_normal.jpg',\n",
    "   u'profile_image_url_https': u'https://pbs.twimg.com/profile_images/837348640066682880/6qb7ew1r_normal.jpg',\n",
    "   u'profile_link_color': u'3B94D9',\n",
    "   u'profile_sidebar_border_color': u'000000',\n",
    "   u'profile_sidebar_fill_color': u'000000',\n",
    "   u'profile_text_color': u'000000',\n",
    "   u'profile_use_background_image': False,\n",
    "   u'protected': False,\n",
    "   u'screen_name': u'gabriella_akat',\n",
    "   u'statuses_count': 16513,\n",
    "   u'time_zone': u'America/Los_Angeles',\n",
    "   u'url': None,\n",
    "   u'utc_offset': -28800,\n",
    "   u'verified': False}},\n",
    " u'quoted_status_id': 839511910282244096L,\n",
    " u'quoted_status_id_str': u'839511910282244096',\n",
    " u'retweet_count': 0,\n",
    " u'retweeted': False,\n",
    " u'source': u'<a href=\"http://twitter.com/download/android\" rel=\"nofollow\">Twitter for Android</a>',\n",
    " u'text': u'No the REAL WOMEN were working and not whinning their liberal fat asses off. https://t.co/BRetdzB6Ua',\n",
    " u'timestamp_ms': u'1489019435121',\n",
    " u'truncated': False,\n",
    " u'user': {u'contributors_enabled': False,\n",
    "  u'created_at': u'Sun Sep 18 14:51:51 +0000 2011',\n",
    "  u'default_profile': False,\n",
    "  u'default_profile_image': False,\n",
    "  u'description': u'Class is back in the White House.  I love our new 1st family. #DrainTheSwamp',\n",
    "  u'favourites_count': 89209,\n",
    "  u'follow_request_sent': None,\n",
    "  u'followers_count': 13354,\n",
    "  u'following': None,\n",
    "  u'friends_count': 13062,\n",
    "  u'geo_enabled': False,\n",
    "  u'id': 375669510,\n",
    "  u'id_str': u'375669510',\n",
    "  u'is_translator': False,\n",
    "  u'lang': u'en',\n",
    "  u'listed_count': 183,\n",
    "  u'location': None,\n",
    "  u'name': u'Trump IS my Pres',\n",
    "  u'notifications': None,\n",
    "  u'profile_background_color': u'DBE9ED',\n",
    "  u'profile_background_image_url': u'http://abs.twimg.com/images/themes/theme17/bg.gif',\n",
    "  u'profile_background_image_url_https': u'https://abs.twimg.com/images/themes/theme17/bg.gif',\n",
    "  u'profile_background_tile': False,\n",
    "  u'profile_banner_url': u'https://pbs.twimg.com/profile_banners/375669510/1353888859',\n",
    "  u'profile_image_url': u'http://pbs.twimg.com/profile_images/797577683286851585/1LYFVtth_normal.jpg',\n",
    "  u'profile_image_url_https': u'https://pbs.twimg.com/profile_images/797577683286851585/1LYFVtth_normal.jpg',\n",
    "  u'profile_link_color': u'CC3366',\n",
    "  u'profile_sidebar_border_color': u'DBE9ED',\n",
    "  u'profile_sidebar_fill_color': u'E6F6F9',\n",
    "  u'profile_text_color': u'333333',\n",
    "  u'profile_use_background_image': True,\n",
    "  u'protected': False,\n",
    "  u'screen_name': u'railgirl1952',\n",
    "  u'statuses_count': 294254,\n",
    "  u'time_zone': u'Central Time (US & Canada)',\n",
    "  u'url': None,\n",
    "  u'utc_offset': -21600,\n",
    "  u'verified': False}}"
   ]
  }
 ],
 "metadata": {
  "anaconda-cloud": {},
  "kernelspec": {
   "display_name": "Python [default]",
   "language": "python",
   "name": "python2"
  },
  "language_info": {
   "codemirror_mode": {
    "name": "ipython",
    "version": 2
   },
   "file_extension": ".py",
   "mimetype": "text/x-python",
   "name": "python",
   "nbconvert_exporter": "python",
   "pygments_lexer": "ipython2",
   "version": "2.7.12"
  }
 },
 "nbformat": 4,
 "nbformat_minor": 1
}
